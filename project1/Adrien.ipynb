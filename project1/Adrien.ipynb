{
 "cells": [
  {
   "cell_type": "markdown",
   "metadata": {},
   "source": [
    "# packages "
   ]
  },
  {
   "cell_type": "code",
   "execution_count": 52,
   "metadata": {},
   "outputs": [],
   "source": [
    "import numpy as np"
   ]
  },
  {
   "cell_type": "code",
   "execution_count": 71,
   "metadata": {},
   "outputs": [],
   "source": [
    "def get_security_transition_matrix():\n",
    "    # The transition matriw is the same regardless tif the game is cycled or not\n",
    "    n_squares = 15 \n",
    "    T_m = np.zeros((n_squares+1, n_squares+1)) \n",
    "    #Il y a le i=0 qui n'est pas utilisé, comme ça, ça permet d'avoir l'index = numéro de square\n",
    "    for i in range(1,n_squares):\n",
    "        T_m[i][i] = 1/2\n",
    "        if(i==3):\n",
    "            T_m[i][i+1] = 1/4 #if takes slow line\n",
    "            T_m[i][11] = 1/4 #if takes fast line\n",
    "        elif(i==10):\n",
    "            T_m[i][15] = 1/2            \n",
    "        else:\n",
    "            T_m[i][i+1] = 1/2\n",
    "        T_m[15][15] = 1\n",
    "    return T_m\n",
    "\n",
    "def get_normal_transition_matrix(layout, cycle:bool):\n",
    "    # The transition matriw is the same regardless tif the game is cycled or not\n",
    "    #If the player just passes through square 3 without stopping, \n",
    "    # he continues to square 4 or beyond (5, 6, etc), as if the other path does not exist\n",
    "    n_squares = 15 \n",
    "    T_m = np.zeros((n_squares+1, n_squares+1))\n",
    "    for i in range(1,n_squares):\n",
    "        T_m[i][i] = 1/3\n",
    "        if(i==3):\n",
    "            # #if takes slow line\n",
    "            T_m[i][i+1] = 1/6 \n",
    "            T_m[i][i+2] = 1/6\n",
    "            #if takes fast line\n",
    "            T_m[i][11] = 1/6\n",
    "            T_m[i][12] = 1/6\n",
    "\n",
    "        elif(i==10):\n",
    "            if(cycle): \n",
    "                T_m[i][15] = 1/3\n",
    "                T_m[i][1] = 1/3\n",
    "            else:\n",
    "                T_m[i][15] = 2/3\n",
    "\n",
    "        elif(i==14):\n",
    "            if(cycle):\n",
    "                T_m[i][1] = 1/3\n",
    "                T_m[i][1] = 1/3\n",
    "            else:\n",
    "                T_m[i][15] = 2/3\n",
    "        else:\n",
    "            T_m[i][i+1] = 1/3\n",
    "            T_m[i][i+2] = 1/3\n",
    "    T_m[n_squares][n_squares] = 1\n",
    "\n",
    "    \n",
    "    # Il faut encore prendre les pièges et bonuses en compte \n",
    "    #il faut reparcourir Chaque élément de la T_m\n",
    "    for i in range(1,n_squares):\n",
    "        for j in range(1,n_squares):\n",
    "                # une chance sur 2 de trigger le piège ou bonus\n",
    "                if(layout[j]==1): # type 1: go back at 1st square\n",
    "                    T_m[i][1] += T_m[i][j]/2 # il faut transférer une demi proba vers le square 1\n",
    "                    T_m[i][j] /=2\n",
    "                elif (layout==2): #type 2: go back 3 squares\n",
    "                    #il y a qlq cas spéciaux\n",
    "                    if (j>=11 and j <=13): # if j ==11 12 or 13 --> go to 1,2 or 3 with proba 1/2\n",
    "                        #diff = 10\n",
    "                        T_m[i][j-10] += T_m[i][j]/2\n",
    "                        T_m[i][j] /=2\n",
    "                    # si trap type 2 à la case 2 ou 3, on peut pas aller moins loin que le start \n",
    "                    elif(j==1 or j == 2):\n",
    "                        T_m[i][1] += T_m[i][j]/2 # il faut transférer une demi proba vers le square 1\n",
    "                        T_m[i][j] /=2\n",
    "                    else: # cas \"commun\"\n",
    "                        T_m[i][j-3] += T_m[i][j]/2\n",
    "                        T_m[i][j] /=2\n",
    "    return T_m\n",
    "\n",
    "def get_risky_transition_matrix(layout, cycle:bool):\n",
    "    pass"
   ]
  },
  {
   "cell_type": "code",
   "execution_count": 72,
   "metadata": {},
   "outputs": [],
   "source": [
    "class markovDecision():\n",
    "    def __init__(self, layout:  np.ndarray, cycle:bool):\n",
    "        self.security_transition_matrix = get_security_transition_matrix()\n",
    "        self.normal_transition_matrix = get_normal_transition_matrix(layout,cycle)\n",
    "        self.get_risky_transition_matrix = get_risky_transition_matrix(layout,cycle)\n",
    "        "
   ]
  },
  {
   "cell_type": "code",
   "execution_count": null,
   "metadata": {},
   "outputs": [],
   "source": [
    "class Board():\n",
    "    # here we place class attribute (static members)\n",
    "    # init \n",
    "    def __init__(self, layout:  np.ndarray, cycle=False):\n",
    "        self.layout = layout\n",
    "        self.cycle = cycle\n",
    "        # self.squares = np.ones(15) # matrice 15 x 3 avec les actions et expected costs associés. \n",
    "        self.position = 0 #position actuelle du joueur\n",
    "    \n",
    "    # regular step\n",
    "    def step(self, size):\n",
    "        self.position += size\n",
    "\n",
    "    # reset (in case of circular)\n",
    "    def reset_position(self):\n",
    "        self.position = 0\n",
    "\n",
    "    def get_position(self):\n",
    "        return self.position"
   ]
  },
  {
   "cell_type": "code",
   "execution_count": 54,
   "metadata": {},
   "outputs": [],
   "source": [
    "class Dice():\n",
    "    def __init__(self, type:str):\n",
    "        self.last_toss = None\n",
    "\n",
    "        if(type == 'security'):\n",
    "            self.steps = np.array([0,1])\n",
    "        elif (type == 'normal'):\n",
    "            self.steps = np.array([0,1,2])\n",
    "        elif (type== 'risky'):\n",
    "            self.steps = np.array([0,1,2,3])\n",
    "        else: raise ValueError(' /!\\  Dice type not existing in current settings')\n",
    "        \n",
    "\n",
    "    def roll(self):\n",
    "        \"\"\" \n",
    "        draw uniformly a step from the dice\n",
    "        \"\"\"\n",
    "        self.last_toss =  int(np.random.choice(self.steps, size=1))\n",
    "        return self.last_toss\n",
    "    \n",
    "    def get_current_toss(self):\n",
    "        if(self.last_toss==None): raise ValueError(' /!\\ Dice should have been tossed at least once')\n",
    "        return self.last_toss"
   ]
  },
  {
   "cell_type": "code",
   "execution_count": null,
   "metadata": {},
   "outputs": [],
   "source": [
    "def get_proba_next_move_position(v_k, T_m):\n",
    "    # v_k = current_state proba vector\n",
    "    # return next state proba vector\n",
    "    return np.dot(v_k, T_m)"
   ]
  },
  {
   "cell_type": "code",
   "execution_count": 66,
   "metadata": {},
   "outputs": [
    {
     "data": {
      "text/plain": [
       "array([0. , 0.5, 0.5, 0. , 0. , 0. , 0. , 0. , 0. , 0. , 0. , 0. , 0. ,\n",
       "       0. , 0. , 0. ])"
      ]
     },
     "execution_count": 66,
     "metadata": {},
     "output_type": "execute_result"
    }
   ],
   "source": [
    "v_0 = np.zeros(16)\n",
    "v_0[1] = 1\n",
    "security_transition_matrix = get_security_transition_matrix()\n",
    "np.dot(v_0, security_transition_matrix) # représente la proba de la prochaine position"
   ]
  }
 ],
 "metadata": {
  "interpreter": {
   "hash": "40d3a090f54c6569ab1632332b64b2c03c39dcf918b08424e98f38b5ae0af88f"
  },
  "kernelspec": {
   "display_name": "Python 3.8.8 64-bit ('base': conda)",
   "language": "python",
   "name": "python3"
  },
  "language_info": {
   "codemirror_mode": {
    "name": "ipython",
    "version": 3
   },
   "file_extension": ".py",
   "mimetype": "text/x-python",
   "name": "python",
   "nbconvert_exporter": "python",
   "pygments_lexer": "ipython3",
   "version": "3.8.8"
  },
  "orig_nbformat": 4
 },
 "nbformat": 4,
 "nbformat_minor": 2
}
